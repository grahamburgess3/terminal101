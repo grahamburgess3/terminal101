{
 "cells": [
  {
   "cell_type": "markdown",
   "id": "55bf809f",
   "metadata": {},
   "source": [
    "# Different Linux systems 🎨"
   ]
  },
  {
   "cell_type": "markdown",
   "id": "1b185436",
   "metadata": {},
   "source": [
    "Linux is a free and open-source operating system based on Unix. It was created by Linus Torvalds in 1991.\n",
    "\n",
    "Nowdays, Linux comes in many *flavours* call **distributions**\n",
    "\n",
    "| Distribution   | Base System         | Target Audience             | Package Manager             | Key Characteristics                                             |\n",
    "|----------------|---------------------|-----------------------------|-----------------------------|-----------------------------------------------------------------|\n",
    "| **Ubuntu**     | Debian              | Beginners, Desktop users    | APT (.deb)                  | User-friendly, LTS support, wide community                     |\n",
    "| **Debian**     | Independent         | Developers, Servers         | APT (.deb)                  | Very stable, slow to update, highly reliable                   |\n",
    "| **Fedora**     | Red Hat             | Developers, Enthusiasts     | DNF (.rpm)                  | Cutting-edge, GNOME default, upstream-focused                  |\n",
    "| **CentOS Stream** | Red Hat          | Servers, Enterprises        | DNF (.rpm)                  | Rolling release, upstream of RHEL, stable                      |\n",
    "| **RHEL**       | Independent         | Enterprises, Commercial use | DNF (.rpm)                  | Enterprise support, certified software                         |\n",
    "| **Arch Linux** | Independent         | Advanced users              | Pacman                      | Rolling release, minimal, fully customisable                   |\n",
    "| **Manjaro**    | Arch Linux          | Intermediate Desktop users  | Pacman                      | User-friendly Arch, pre-configured environments                |\n",
    "| **openSUSE**   | Independent         | Developers, Sysadmins       | Zypper (.rpm)               | YaST tool, stable (Leap) and rolling (Tumbleweed) available    |\n",
    "| **Linux Mint** | Ubuntu/Debian       | Beginners, Windows switchers| APT (.deb)                  | Polished desktop, great out-of-the-box experience              |\n",
    "| **Kali Linux** | Debian              | Security professionals      | APT (.deb)                  | Preloaded with pentesting tools, forensic focus                |\n",
    "| **AlmaLinux**  | RHEL                | Enterprises, Server admins  | DNF (.rpm)                  | Community-driven RHEL alternative                              |\n",
    "| **Pop!\\_OS**   | Ubuntu              | Developers, Gamers          | APT (.deb)                  | Tiling window manager, GPU support, clean UI                   |\n",
    "| **Zorin OS**   | Ubuntu              | Beginners, Windows switchers| APT (.deb)                  | Windows-like interface, great for newcomers                    |\n",
    "\n"
   ]
  },
  {
   "cell_type": "markdown",
   "id": "ca7e89fe",
   "metadata": {},
   "source": [
    "# Introduction to .dotfiles 🛠️"
   ]
  },
  {
   "cell_type": "markdown",
   "id": "232e7e3a",
   "metadata": {},
   "source": [
    "We understand by `.dotfiles` each of the hidden (or not) files that set-up or customise some characteristics of our system. \n",
    "\n",
    "> **Example** When we use bash (default terminal of a Linux system) there are two main hidden files\n",
    "> - `.bashrc` (configuration file of the terminal)\n",
    "> - `.bashrc_history` (list of the commands used)"
   ]
  },
  {
   "cell_type": "markdown",
   "id": "45000edb",
   "metadata": {},
   "source": [
    "💡 The idea behind customise any aspect of the system is using this **configuration files** that they used to be in standard places in our directory tree. \n",
    "\n",
    "> **Example:** For instance, `.bashrc` file setup some user characteristics of the terminal `bash`"
   ]
  },
  {
   "cell_type": "markdown",
   "id": "0510bc01",
   "metadata": {},
   "source": [
    "The aims of this lunch session are:\n",
    "1. Customise your terminal. We will use `zsh` terminal because it is easy. \n",
    "2. Advertise `Neovim` and exemplify the principles of customisation setting `Neovim`.\n",
    "3. Introduce the PDFViewer `sioyek` and a way to customise it.\n",
    "4. Talk about themes, icons, windows managers, and so on.  "
   ]
  },
  {
   "cell_type": "markdown",
   "id": "cfbd7398",
   "metadata": {},
   "source": [
    "## Zsh: A beautiful terminal 🖥️"
   ]
  },
  {
   "cell_type": "markdown",
   "id": "550382fc",
   "metadata": {},
   "source": [
    "Here, we summarise a nice way to customise the terminal using the terminal `zsh`. Another option is the terminal `fish`."
   ]
  },
  {
   "cell_type": "markdown",
   "id": "0ca63b8c",
   "metadata": {},
   "source": [
    "1. Install `zsh`"
   ]
  },
  {
   "cell_type": "markdown",
   "id": "0090651e",
   "metadata": {},
   "source": [
    "```bash\n",
    "sudo apt update\n",
    "sudo apt install zsh -y"
   ]
  },
  {
   "cell_type": "markdown",
   "id": "2d960ac3",
   "metadata": {},
   "source": [
    "2. Make `zsh` as default"
   ]
  },
  {
   "cell_type": "markdown",
   "id": "4ff5b451",
   "metadata": {},
   "source": [
    "```bash\n",
    "chsh -s $(which zsh)"
   ]
  },
  {
   "cell_type": "markdown",
   "id": "b7051d62",
   "metadata": {},
   "source": [
    "3. Install `Oh My Zsh`"
   ]
  },
  {
   "cell_type": "markdown",
   "id": "fe872a42",
   "metadata": {},
   "source": [
    "```bash\n",
    "sh -c \"$(curl -fsSL https://raw.githubusercontent.com/ohmyzsh/ohmyzsh/master/tools/install.sh)\""
   ]
  },
  {
   "cell_type": "markdown",
   "id": "416f33f7",
   "metadata": {},
   "source": [
    "4. We will use `powerlevel10k` configuration assistant"
   ]
  },
  {
   "cell_type": "markdown",
   "id": "4de2c5e1",
   "metadata": {},
   "source": [
    "```bash\n",
    "git clone --depth=1 https://github.com/romkatv/powerlevel10k.git \\\n",
    "  ${ZSH_CUSTOM:-$HOME/.oh-my-zsh/custom}/themes/powerlevel10k\n"
   ]
  },
  {
   "cell_type": "markdown",
   "id": "eb11aa15",
   "metadata": {},
   "source": [
    "5. Activate theme"
   ]
  },
  {
   "cell_type": "markdown",
   "id": "25acbaed",
   "metadata": {},
   "source": [
    "```bash\n",
    "nano ~/.zshrc # open configuration file with nvim "
   ]
  },
  {
   "cell_type": "markdown",
   "id": "5072571c",
   "metadata": {},
   "source": [
    "```bash\n",
    "ZSH_THEME=\"powerlevel10k/powerlevel10k\" # for powerlevel10k"
   ]
  },
  {
   "cell_type": "markdown",
   "id": "e6c4c150",
   "metadata": {},
   "source": [
    "6. **Extra**: Add to plugins, for instance, for `git` features. To `.zshrc` add the following lines "
   ]
  },
  {
   "cell_type": "markdown",
   "id": "a6c57b51",
   "metadata": {},
   "source": [
    "```bash\n",
    "plugins=(\n",
    "    git\n",
    "    zsh-autosuggestions\n",
    "    zsh-syntax-highlighting\n",
    ")"
   ]
  },
  {
   "cell_type": "markdown",
   "id": "cb7cf253",
   "metadata": {},
   "source": [
    "7. Apply theme"
   ]
  },
  {
   "cell_type": "markdown",
   "id": "2176e9f5",
   "metadata": {},
   "source": [
    "```bash\n",
    "source ~/.zshrc"
   ]
  },
  {
   "cell_type": "markdown",
   "id": "3e2073a3",
   "metadata": {},
   "source": [
    "All the information in the website for starting: [powerlevel10k](https://github.com/romkatv/powerlevel10k)"
   ]
  },
  {
   "cell_type": "markdown",
   "id": "285d4b6f",
   "metadata": {},
   "source": [
    "The theme I used can be found in: [dracula-powerlevel10k](https://draculatheme.com/powerlevel10k)"
   ]
  },
  {
   "cell_type": "markdown",
   "id": "3ac3ae2b",
   "metadata": {},
   "source": [
    "I found yesterday a nice catalogue of themes: [oh-my-posh](https://ohmyposh.dev/docs/themes/)."
   ]
  },
  {
   "cell_type": "markdown",
   "id": "ea77436f",
   "metadata": {},
   "source": [
    "> **Exercise:** We will try to install powerlevel10k and then the dracula version"
   ]
  },
  {
   "cell_type": "markdown",
   "id": "a8eca573",
   "metadata": {},
   "source": [
    "## Neovim+TeX: My favorite plugin VimTeX ⌨️"
   ]
  },
  {
   "cell_type": "markdown",
   "id": "baef7f0e",
   "metadata": {},
   "source": [
    "First, we need to install Neovim (modern version of Vim)"
   ]
  },
  {
   "cell_type": "markdown",
   "id": "3f1eb975",
   "metadata": {},
   "source": [
    "1. Add to the apt-repository list the stable version of neovim "
   ]
  },
  {
   "cell_type": "markdown",
   "id": "ba7b9860",
   "metadata": {},
   "source": [
    "```bash\n",
    "sudo add-apt-repository ppa:neovim-ppa/stable # recommended\n",
    "sudo apt update"
   ]
  },
  {
   "cell_type": "markdown",
   "id": "fcc913f7",
   "metadata": {},
   "source": [
    "2. Install `neovim`"
   ]
  },
  {
   "cell_type": "markdown",
   "id": "02d1607d",
   "metadata": {},
   "source": [
    "```bash\n",
    "sudo apt install neovim -y"
   ]
  },
  {
   "cell_type": "markdown",
   "id": "09c13aea",
   "metadata": {},
   "source": [
    "3. Verify installation"
   ]
  },
  {
   "cell_type": "markdown",
   "id": "06af6e52",
   "metadata": {},
   "source": [
    "```bash\n",
    "nvim --version"
   ]
  },
  {
   "cell_type": "markdown",
   "id": "beaae038",
   "metadata": {},
   "source": [
    "⚠️ Masterized vim typing takes some time. Be patient if you want to try it. "
   ]
  },
  {
   "cell_type": "markdown",
   "id": "af579fbf",
   "metadata": {},
   "source": [
    "## VimTeX plugin"
   ]
  },
  {
   "cell_type": "markdown",
   "id": "3f0cf3fa",
   "metadata": {},
   "source": [
    "Initially, you can code in any language using `nvim`. In order to that you need to install the appropriate **plugins**"
   ]
  },
  {
   "cell_type": "markdown",
   "id": "d1dcbef7",
   "metadata": {},
   "source": [
    "Here, I leave a list of plugins I found useful:\n",
    "1. `neoclide/coc.nvim` (autocompletation)\n",
    "2. `lervag/vimtex` (VimTeX a lot of stuff for typing in LaTeX with nvim)\n",
    "3. `scrooloose/nerdtree` (Search file)\n",
    "4. `sirver/ultisnips` (Support for ultisnips)\n",
    "5. `easymotion/vim-easymotion` (Easy motion through file)"
   ]
  },
  {
   "cell_type": "markdown",
   "id": "ab6b98ed",
   "metadata": {},
   "source": [
    "Show a little bit how it works but all the stuff learning is in [VimTeX description file](https://github.com/lervag/vimtex/blob/master/doc/vimtex.txt)"
   ]
  },
  {
   "cell_type": "markdown",
   "id": "acad64ea",
   "metadata": {},
   "source": [
    "For start installing plugins is necessary to run the following command:"
   ]
  },
  {
   "cell_type": "markdown",
   "id": "5fb5b2c7",
   "metadata": {},
   "source": [
    "```bash\n",
    "curl -fLo ~/.local/share/nvim/site/autoload/plug.vim --create-dirs \\\n",
    "     https://raw.githubusercontent.com/junegunn/vim-plug/master/plug.vim\n"
   ]
  },
  {
   "cell_type": "markdown",
   "id": "04fa3b9c",
   "metadata": {},
   "source": [
    "This is an example of two plugins in the file `init.vim`"
   ]
  },
  {
   "cell_type": "markdown",
   "id": "54c96f6e",
   "metadata": {},
   "source": [
    "```bash\n",
    "call plug#begin('~/.local/share/nvim/plugged')\n",
    "\n",
    "Plug 'preservim/nerdtree'\n",
    "Plug 'tpope/vim-commentary'\n",
    "\n",
    "call plug#end()"
   ]
  },
  {
   "cell_type": "markdown",
   "id": "6d2b344c",
   "metadata": {},
   "source": [
    "It is necessary to run this in the vim terminal"
   ]
  },
  {
   "cell_type": "markdown",
   "id": "778c2433",
   "metadata": {},
   "source": [
    "```bash\n",
    ":PlugInstall"
   ]
  },
  {
   "cell_type": "markdown",
   "id": "430dcfab",
   "metadata": {},
   "source": [
    "> **Exercise:** Install one plugin"
   ]
  },
  {
   "cell_type": "markdown",
   "id": "4aa8de03",
   "metadata": {},
   "source": [
    "## Sioyek"
   ]
  },
  {
   "cell_type": "markdown",
   "id": "4e19c0f8",
   "metadata": {},
   "source": [
    "If you want to have all your papers in a minimalist way `Sioyek` is a really good option. It has also features that allow you only user the keyboard while you are reading all your papers. \n",
    "\n",
    "You dont need to install it. It can work through an `AppImage` file. More information about it [Sioyek](https://sioyek.info/)"
   ]
  },
  {
   "cell_type": "markdown",
   "id": "0a08c592",
   "metadata": {},
   "source": [
    "> **Exercise:** Download the Appimage file and run it. Play together"
   ]
  },
  {
   "cell_type": "markdown",
   "id": "9488c623",
   "metadata": {},
   "source": [
    "## Themes, Icons, and more..."
   ]
  },
  {
   "cell_type": "markdown",
   "id": "3ac30885",
   "metadata": {},
   "source": [
    "Here refer to [Dracula Theme](https://draculatheme.com/). Doing it you can understand how actually works.\n",
    "\n",
    "1. `.icons` directory\n",
    "2. `.themes` directory"
   ]
  },
  {
   "cell_type": "markdown",
   "id": "bfc5af0a",
   "metadata": {},
   "source": [
    "> **Exercise (Optional)** Change your GTK theme or your icons"
   ]
  }
 ],
 "metadata": {
  "kernelspec": {
   "display_name": "base",
   "language": "python",
   "name": "python3"
  },
  "language_info": {
   "name": "python",
   "version": "3.11.4"
  }
 },
 "nbformat": 4,
 "nbformat_minor": 5
}
